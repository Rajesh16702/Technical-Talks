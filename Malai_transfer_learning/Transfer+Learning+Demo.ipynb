{
 "cells": [
  {
   "cell_type": "code",
   "execution_count": 12,
   "metadata": {},
   "outputs": [],
   "source": [
    "import numpy as np\n",
    "import keras\n",
    "from keras.datasets import cifar10\n",
    "from keras.layers import Dense, Conv2D, Flatten, Activation, MaxPooling2D, Dropout\n",
    "from keras.models import Sequential\n",
    "from keras.utils import np_utils\n"
   ]
  },
  {
   "cell_type": "code",
   "execution_count": 13,
   "metadata": {
    "collapsed": true
   },
   "outputs": [],
   "source": [
    "(x_train, y_train), (x_test, y_test) = cifar10.load_data()\n",
    "n_examples = 5000"
   ]
  },
  {
   "cell_type": "code",
   "execution_count": 14,
   "metadata": {
    "collapsed": true
   },
   "outputs": [],
   "source": [
    "X1_train = []\n",
    "X1_test = []\n",
    "X2_train = []\n",
    "X2_test = []\n",
    "Y1_train = []\n",
    "Y1_test = []\n",
    "Y2_train = []\n",
    "Y2_test = []\n",
    "\n",
    "for ix in range(n_examples):\n",
    "    if y_train[ix] < 5:\n",
    "        # put data in set 1\n",
    "        X1_train.append(x_train[ix]/255.0)\n",
    "        Y1_train.append(y_train[ix])\n",
    "    else:\n",
    "        # put data in set 2\n",
    "        X2_train.append(x_train[ix]/255.0)\n",
    "        Y2_train.append(y_train[ix])\n",
    "\n",
    "for ix in range(y_test.shape[0]):\n",
    "    if y_test[ix] < 5:\n",
    "        # put data in set 1\n",
    "        X1_test.append(x_test[ix]/255.0)\n",
    "        Y1_test.append(y_test[ix])\n",
    "    else:\n",
    "        # put data in set 2\n",
    "        X2_test.append(x_test[ix]/255.0)\n",
    "        Y2_test.append(y_test[ix])\n"
   ]
  },
  {
   "cell_type": "code",
   "execution_count": 15,
   "metadata": {
    "collapsed": true
   },
   "outputs": [],
   "source": [
    "#Convert the input to an array\n",
    "X1_train = np.asarray(X1_train).reshape((-1, 32, 32, 3))\n",
    "X1_test = np.asarray(X1_test).reshape((-1, 32, 32, 3))\n",
    "X2_train = np.asarray(X2_train).reshape((-1, 32, 32, 3))\n",
    "X2_test = np.asarray(X2_test).reshape((-1, 32, 32, 3))\n",
    "\n",
    "# One hot representation for multiclass problem\n",
    "# Convert 1-dimensional class arrays to 10-dimensional class matrices\n",
    "Y1_train = np_utils.to_categorical(np.asarray(Y1_train), num_classes=5)\n",
    "Y1_test = np_utils.to_categorical(np.asarray(Y1_test), num_classes=5)\n",
    "\n",
    "Y2_train = np_utils.to_categorical(np.asarray(Y2_train), num_classes=10)\n",
    "Y2_test = np_utils.to_categorical(np.asarray(Y2_test), num_classes=10)"
   ]
  },
  {
   "cell_type": "code",
   "execution_count": 16,
   "metadata": {},
   "outputs": [
    {
     "name": "stdout",
     "output_type": "stream",
     "text": [
      "(2489, 32, 32, 3) (5000, 32, 32, 3)\n",
      "(2489, 5) (5000, 5)\n"
     ]
    }
   ],
   "source": [
    "print (X1_train.shape, X1_test.shape)\n",
    "print (Y1_train.shape, Y1_test.shape)\n"
   ]
  },
  {
   "cell_type": "code",
   "execution_count": 17,
   "metadata": {
    "collapsed": true
   },
   "outputs": [],
   "source": [
    "split1 = int(0.8 * X1_train.shape[0])\n",
    "split2 = int(0.8 * X2_train.shape[0])\n",
    "\n",
    "x1_val = X1_train[split1:]\n",
    "x1_train = X1_train[:split1]\n",
    "y1_val = Y1_train[split1:]\n",
    "y1_train = Y1_train[:split1]\n",
    "\n",
    "x2_val = X2_train[split2:]\n",
    "x2_train = X2_train[:split2]\n",
    "y2_val = Y2_train[split2:]\n",
    "y2_train = Y2_train[:split2]"
   ]
  },
  {
   "cell_type": "markdown",
   "metadata": {},
   "source": [
    "http://cs231n.github.io/assets/conv-demo/index.html"
   ]
  },
  {
   "cell_type": "code",
   "execution_count": 18,
   "metadata": {},
   "outputs": [
    {
     "name": "stdout",
     "output_type": "stream",
     "text": [
      "_________________________________________________________________\n",
      "Layer (type)                 Output Shape              Param #   \n",
      "=================================================================\n",
      "conv2d_4 (Conv2D)            (None, 28, 28, 32)        2432      \n",
      "_________________________________________________________________\n",
      "conv2d_5 (Conv2D)            (None, 24, 24, 16)        12816     \n",
      "_________________________________________________________________\n",
      "max_pooling2d_2 (MaxPooling2 (None, 12, 12, 16)        0         \n",
      "_________________________________________________________________\n",
      "conv2d_6 (Conv2D)            (None, 10, 10, 8)         1160      \n",
      "_________________________________________________________________\n",
      "flatten_2 (Flatten)          (None, 800)               0         \n",
      "_________________________________________________________________\n",
      "dropout_2 (Dropout)          (None, 800)               0         \n",
      "_________________________________________________________________\n",
      "dense_5 (Dense)              (None, 128)               102528    \n",
      "_________________________________________________________________\n",
      "dense_6 (Dense)              (None, 5)                 645       \n",
      "=================================================================\n",
      "Total params: 119,581\n",
      "Trainable params: 119,581\n",
      "Non-trainable params: 0\n",
      "_________________________________________________________________\n"
     ]
    }
   ],
   "source": [
    "model = Sequential()\n",
    "\n",
    "model.add(Conv2D(32, (5, 5), input_shape=(32, 32, 3), activation='relu'))\n",
    "model.add(Conv2D(16, (5, 5), activation='relu'))\n",
    "model.add(MaxPooling2D(pool_size=(2,2)))\n",
    "model.add(Conv2D(8, (3, 3), activation='relu'))\n",
    "model.add(Flatten())\n",
    "model.add(Dropout(0.42))\n",
    "\n",
    "model.add(Dense(128, activation='relu'))\n",
    "model.add(Dense(5,activation='softmax'))\n",
    "model.summary()\n",
    "model.compile(loss='categorical_crossentropy', optimizer='adam', metrics=['accuracy'])"
   ]
  },
  {
   "cell_type": "code",
   "execution_count": 19,
   "metadata": {},
   "outputs": [
    {
     "name": "stdout",
     "output_type": "stream",
     "text": [
      "Epoch 1/10\n",
      "7s - loss: 1.5662 - acc: 0.2597\n",
      "Epoch 2/10\n",
      "7s - loss: 1.3770 - acc: 0.4083\n",
      "Epoch 3/10\n",
      "6s - loss: 1.2199 - acc: 0.4756\n",
      "Epoch 4/10\n",
      "6s - loss: 1.1540 - acc: 0.5063\n",
      "Epoch 5/10\n",
      "6s - loss: 1.0935 - acc: 0.5439\n",
      "Epoch 6/10\n",
      "6s - loss: 1.0372 - acc: 0.5595\n",
      "Epoch 7/10\n",
      "6s - loss: 0.9731 - acc: 0.5937\n",
      "Epoch 8/10\n",
      "6s - loss: 0.9697 - acc: 0.5937\n",
      "Epoch 9/10\n",
      "6s - loss: 0.9336 - acc: 0.6128\n",
      "Epoch 10/10\n",
      "6s - loss: 0.9277 - acc: 0.6193\n",
      "\n",
      "\n",
      " -------------------- \n",
      "\n",
      "Time taken for first training:  0:01:05.858178\n",
      "\n",
      " -------------------- \n",
      "\n",
      "\n"
     ]
    }
   ],
   "source": [
    "import time, datetime\n",
    "\n",
    "start = datetime.datetime.now()\n",
    "hist1 = model.fit(x1_train, y1_train,\n",
    "                  batch_size=100,\n",
    "                  epochs=10,\n",
    "                  verbose=2,\n",
    "                  shuffle=True)\n",
    "\n",
    "time_taken = datetime.datetime.now() - start\n",
    "print ('\\n'*2, '-'*20, '\\n')\n",
    "print ('Time taken for first training: ', time_taken)\n",
    "print ('\\n', '-'*20, '\\n'*2)"
   ]
  },
  {
   "cell_type": "code",
   "execution_count": 20,
   "metadata": {
    "collapsed": true
   },
   "outputs": [],
   "source": [
    "for l in model.layers[:6]:\n",
    "    l.trainable = False  "
   ]
  },
  {
   "cell_type": "code",
   "execution_count": 21,
   "metadata": {},
   "outputs": [
    {
     "name": "stdout",
     "output_type": "stream",
     "text": [
      "_________________________________________________________________\n",
      "Layer (type)                 Output Shape              Param #   \n",
      "=================================================================\n",
      "conv2d_4 (Conv2D)            (None, 28, 28, 32)        2432      \n",
      "_________________________________________________________________\n",
      "conv2d_5 (Conv2D)            (None, 24, 24, 16)        12816     \n",
      "_________________________________________________________________\n",
      "max_pooling2d_2 (MaxPooling2 (None, 12, 12, 16)        0         \n",
      "_________________________________________________________________\n",
      "conv2d_6 (Conv2D)            (None, 10, 10, 8)         1160      \n",
      "_________________________________________________________________\n",
      "flatten_2 (Flatten)          (None, 800)               0         \n",
      "_________________________________________________________________\n",
      "dropout_2 (Dropout)          (None, 800)               0         \n",
      "_________________________________________________________________\n",
      "dense_7 (Dense)              (None, 128)               102528    \n",
      "_________________________________________________________________\n",
      "activation_3 (Activation)    (None, 128)               0         \n",
      "_________________________________________________________________\n",
      "dense_8 (Dense)              (None, 10)                1290      \n",
      "_________________________________________________________________\n",
      "activation_4 (Activation)    (None, 10)                0         \n",
      "=================================================================\n",
      "Total params: 120,226\n",
      "Trainable params: 103,818\n",
      "Non-trainable params: 16,408\n",
      "_________________________________________________________________\n"
     ]
    }
   ],
   "source": [
    "trans_model = Sequential(model.layers[:6])\n",
    "\n",
    "trans_model.add(Dense(128))\n",
    "trans_model.add(Activation('relu'))\n",
    "trans_model.add(Dense(10))\n",
    "trans_model.add(Activation('softmax'))\n",
    "\n",
    "trans_model.summary()\n",
    "trans_model.compile(loss='categorical_crossentropy', optimizer='adam', metrics=['accuracy'])"
   ]
  },
  {
   "cell_type": "code",
   "execution_count": 22,
   "metadata": {},
   "outputs": [
    {
     "name": "stdout",
     "output_type": "stream",
     "text": [
      "Epoch 1/10\n",
      "3s - loss: 1.5387 - acc: 0.4293\n",
      "Epoch 2/10\n",
      "2s - loss: 1.0460 - acc: 0.5926\n",
      "Epoch 3/10\n",
      "3s - loss: 0.9592 - acc: 0.6290\n",
      "Epoch 4/10\n",
      "3s - loss: 0.9216 - acc: 0.6429\n",
      "Epoch 5/10\n",
      "3s - loss: 0.8818 - acc: 0.6718\n",
      "Epoch 6/10\n",
      "2s - loss: 0.8738 - acc: 0.6569\n",
      "Epoch 7/10\n",
      "2s - loss: 0.8625 - acc: 0.6668\n",
      "Epoch 8/10\n",
      "2s - loss: 0.8459 - acc: 0.6798\n",
      "Epoch 9/10\n",
      "2s - loss: 0.8368 - acc: 0.6783\n",
      "Epoch 10/10\n",
      "2s - loss: 0.8012 - acc: 0.7007\n",
      "\n",
      "\n",
      " -------------------- \n",
      "\n",
      "Time taken for final training:  0:00:30.993987\n",
      "\n",
      " -------------------- \n",
      "\n",
      "\n"
     ]
    }
   ],
   "source": [
    "start = datetime.datetime.now()\n",
    "hist2 = trans_model.fit(x2_train, y2_train, epochs=10, shuffle=True, batch_size=100, verbose=2)\n",
    "time_taken = datetime.datetime.now() - start\n",
    "print ('\\n'*2, '-'*20, '\\n')\n",
    "print ('Time taken for final training: ', time_taken)\n",
    "print ('\\n', '-'*20, '\\n'*2)"
   ]
  },
  {
   "cell_type": "code",
   "execution_count": null,
   "metadata": {
    "collapsed": true
   },
   "outputs": [],
   "source": []
  }
 ],
 "metadata": {
  "kernelspec": {
   "display_name": "Python 3",
   "language": "python",
   "name": "python3"
  },
  "language_info": {
   "codemirror_mode": {
    "name": "ipython",
    "version": 3
   },
   "file_extension": ".py",
   "mimetype": "text/x-python",
   "name": "python",
   "nbconvert_exporter": "python",
   "pygments_lexer": "ipython3",
   "version": "3.6.1"
  }
 },
 "nbformat": 4,
 "nbformat_minor": 2
}
