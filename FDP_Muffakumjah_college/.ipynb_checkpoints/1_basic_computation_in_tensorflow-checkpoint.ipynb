{
 "cells": [
  {
   "cell_type": "markdown",
   "metadata": {
    "collapsed": true
   },
   "source": [
    "# Basic Operations example using TensorFlow library.\n",
    "# Author: Rahul Jain"
   ]
  },
  {
   "cell_type": "code",
   "execution_count": 29,
   "metadata": {
    "collapsed": true
   },
   "outputs": [],
   "source": [
    "import tensorflow as tf"
   ]
  },
  {
   "cell_type": "markdown",
   "metadata": {},
   "source": [
    "### Defining Constants"
   ]
  },
  {
   "cell_type": "code",
   "execution_count": 30,
   "metadata": {},
   "outputs": [
    {
     "data": {
      "text/plain": [
       "(TensorShape([]), TensorShape([]))"
      ]
     },
     "execution_count": 30,
     "metadata": {},
     "output_type": "execute_result"
    }
   ],
   "source": [
    "# Basic constant operations\n",
    "# The value returned by the constructor represents the output\n",
    "# of the Constant op.\n",
    "a = tf.constant(2)\n",
    "b = tf.constant(3)\n",
    "a.shape, b.shape"
   ]
  },
  {
   "cell_type": "markdown",
   "metadata": {},
   "source": [
    "#### EX : Create tensors with below given properties:\n",
    "> ex1: name=vec1, shape=(1,2), dtype=float64, initial_value = [3, 4.5]\n",
    "\n",
    "> ex2: name=vec2, shape=(1,2), dtype=float64, initial_value = [3.5, 4]\n",
    "\n",
    "> ex3: name=col1, shape=(2,1), dtype=float64, initial_value = [[3.5], [4]]\n",
    "\n",
    "> ex4: name=col2, shape=(2,1), dtype=float64, initial_value = [[0.2], [4]]\n",
    "\n",
    "> ex5: name=mat1, shape=(3,2), dtype=float64, initial_value = [[3.5, 4],[3.5, 4],[3.5, 4]]\n",
    "\n",
    "> ex5: name=mat2, shape=(2,3), dtype=float64, initial_value = [[3.5, 4, 3.5], [4, 3.5, 4]]"
   ]
  },
  {
   "cell_type": "code",
   "execution_count": 4,
   "metadata": {},
   "outputs": [
    {
     "data": {
      "text/plain": [
       "(<tf.Tensor 'vec1:0' shape=(2,) dtype=float64>, TensorShape([Dimension(2)]))"
      ]
     },
     "execution_count": 4,
     "metadata": {},
     "output_type": "execute_result"
    }
   ],
   "source": [
    "# ex1\n",
    "vec1 = tf.constant(value=[3, 4.6], dtype=tf.float64, name='vec1' )\n",
    "vec1, vec1.shape"
   ]
  },
  {
   "cell_type": "code",
   "execution_count": 5,
   "metadata": {},
   "outputs": [
    {
     "data": {
      "text/plain": [
       "(<tf.Tensor 'vec2:0' shape=(2,) dtype=float64>, TensorShape([Dimension(2)]))"
      ]
     },
     "execution_count": 5,
     "metadata": {},
     "output_type": "execute_result"
    }
   ],
   "source": [
    "# ex2\n",
    "vec2 = tf.constant(value= [3.5, 4], dtype=tf.float64, name='vec2' )\n",
    "vec2, vec2.shape"
   ]
  },
  {
   "cell_type": "code",
   "execution_count": 6,
   "metadata": {},
   "outputs": [
    {
     "data": {
      "text/plain": [
       "(<tf.Tensor 'col1:0' shape=(2, 1) dtype=float64>,\n",
       " TensorShape([Dimension(2), Dimension(1)]))"
      ]
     },
     "execution_count": 6,
     "metadata": {},
     "output_type": "execute_result"
    }
   ],
   "source": [
    "# ex3\n",
    "col1 = tf.constant(value= [[3.5], [4]], dtype=tf.float64, name='col1' )\n",
    "col1, col1.shape"
   ]
  },
  {
   "cell_type": "code",
   "execution_count": 7,
   "metadata": {},
   "outputs": [
    {
     "data": {
      "text/plain": [
       "(<tf.Tensor 'col2:0' shape=(2, 1) dtype=float64>,\n",
       " TensorShape([Dimension(2), Dimension(1)]))"
      ]
     },
     "execution_count": 7,
     "metadata": {},
     "output_type": "execute_result"
    }
   ],
   "source": [
    "# ex4\n",
    "col2 = tf.constant(value= [[0.2], [4]], dtype=tf.float64, name='col2' )\n",
    "col2, col2.shape"
   ]
  },
  {
   "cell_type": "code",
   "execution_count": 8,
   "metadata": {},
   "outputs": [
    {
     "data": {
      "text/plain": [
       "(<tf.Tensor 'mat1:0' shape=(3, 2) dtype=float64>,\n",
       " TensorShape([Dimension(3), Dimension(2)]))"
      ]
     },
     "execution_count": 8,
     "metadata": {},
     "output_type": "execute_result"
    }
   ],
   "source": [
    "# ex5\n",
    "mat1 = tf.constant(value=[[3.5, 4],[3.5, 4],[3.5, 4]], dtype=tf.float64, name='mat1')\n",
    "mat1, mat1.shape"
   ]
  },
  {
   "cell_type": "code",
   "execution_count": 9,
   "metadata": {},
   "outputs": [
    {
     "data": {
      "text/plain": [
       "(<tf.Tensor 'mat2:0' shape=(2, 3) dtype=float64>,\n",
       " TensorShape([Dimension(2), Dimension(3)]))"
      ]
     },
     "execution_count": 9,
     "metadata": {},
     "output_type": "execute_result"
    }
   ],
   "source": [
    "# ex6\n",
    "mat2 = tf.constant(value=[[3.5, 4, 3.5], [4, 3.5, 4]], dtype=tf.float64, name='mat2')\n",
    "mat2, mat2.shape"
   ]
  },
  {
   "cell_type": "markdown",
   "metadata": {},
   "source": [
    "### Getting the values of tensors"
   ]
  },
  {
   "cell_type": "code",
   "execution_count": 10,
   "metadata": {
    "collapsed": true
   },
   "outputs": [],
   "source": [
    "sess = tf.InteractiveSession()"
   ]
  },
  {
   "cell_type": "code",
   "execution_count": 11,
   "metadata": {},
   "outputs": [
    {
     "data": {
      "text/plain": [
       "(2, 3, 5)"
      ]
     },
     "execution_count": 11,
     "metadata": {},
     "output_type": "execute_result"
    }
   ],
   "source": [
    "sess.run(a), sess.run(b), sess.run(a+b)"
   ]
  },
  {
   "cell_type": "markdown",
   "metadata": {},
   "source": [
    "#### EX : Perform below operations on tensors(created in previous exercise) :\n",
    "> ex9: Add col1 and col2\n",
    "\n",
    "> ex10: Pointwise multiplication of vec1 and vec2\n",
    "\n",
    "> ex11: Matrix multiplication of mat1, mat2"
   ]
  },
  {
   "cell_type": "code",
   "execution_count": null,
   "metadata": {
    "collapsed": true
   },
   "outputs": [],
   "source": []
  },
  {
   "cell_type": "code",
   "execution_count": 12,
   "metadata": {},
   "outputs": [
    {
     "data": {
      "text/plain": [
       "array([[ 3.5],\n",
       "       [ 4. ]])"
      ]
     },
     "execution_count": 12,
     "metadata": {},
     "output_type": "execute_result"
    }
   ],
   "source": [
    "sess.run(col1)"
   ]
  },
  {
   "cell_type": "code",
   "execution_count": 13,
   "metadata": {},
   "outputs": [
    {
     "data": {
      "text/plain": [
       "array([[ 0.2],\n",
       "       [ 4. ]])"
      ]
     },
     "execution_count": 13,
     "metadata": {},
     "output_type": "execute_result"
    }
   ],
   "source": [
    "sess.run(col2)"
   ]
  },
  {
   "cell_type": "code",
   "execution_count": 14,
   "metadata": {},
   "outputs": [
    {
     "data": {
      "text/plain": [
       "array([[ 3.7],\n",
       "       [ 8. ]])"
      ]
     },
     "execution_count": 14,
     "metadata": {},
     "output_type": "execute_result"
    }
   ],
   "source": [
    "# ex9:\n",
    "sess.run(col1+col2)"
   ]
  },
  {
   "cell_type": "code",
   "execution_count": 15,
   "metadata": {},
   "outputs": [
    {
     "data": {
      "text/plain": [
       "array([[ 3.7],\n",
       "       [ 8. ]])"
      ]
     },
     "execution_count": 15,
     "metadata": {},
     "output_type": "execute_result"
    }
   ],
   "source": [
    "# ex9:\n",
    "sess.run(tf.add(col1, col2))"
   ]
  },
  {
   "cell_type": "code",
   "execution_count": 16,
   "metadata": {},
   "outputs": [
    {
     "data": {
      "text/plain": [
       "array([ 10.5,  18.4])"
      ]
     },
     "execution_count": 16,
     "metadata": {},
     "output_type": "execute_result"
    }
   ],
   "source": [
    "# ex10 : \n",
    "sess.run(tf.multiply(vec1, vec2))"
   ]
  },
  {
   "cell_type": "code",
   "execution_count": 17,
   "metadata": {},
   "outputs": [
    {
     "data": {
      "text/plain": [
       "array([[ 28.25,  28.  ,  28.25],\n",
       "       [ 28.25,  28.  ,  28.25],\n",
       "       [ 28.25,  28.  ,  28.25]])"
      ]
     },
     "execution_count": 17,
     "metadata": {},
     "output_type": "execute_result"
    }
   ],
   "source": [
    "# ex11 : \n",
    "sess.run(tf.matmul(mat1, mat2))"
   ]
  },
  {
   "cell_type": "markdown",
   "metadata": {},
   "source": [
    "### Defining Variables"
   ]
  },
  {
   "cell_type": "code",
   "execution_count": 18,
   "metadata": {},
   "outputs": [
    {
     "data": {
      "text/plain": [
       "<tf.Variable 'var1:0' shape=(4, 4) dtype=float32_ref>"
      ]
     },
     "execution_count": 18,
     "metadata": {},
     "output_type": "execute_result"
    }
   ],
   "source": [
    "var1 = tf.Variable(initial_value=tf.truncated_normal(shape=(4,4),mean=0.5, stddev=2), name='var1')\n",
    "var1"
   ]
  },
  {
   "cell_type": "code",
   "execution_count": 19,
   "metadata": {
    "collapsed": true
   },
   "outputs": [],
   "source": [
    "sess.run(var1.initializer)"
   ]
  },
  {
   "cell_type": "code",
   "execution_count": 20,
   "metadata": {},
   "outputs": [
    {
     "data": {
      "text/plain": [
       "array([[-0.07352215,  0.86283123, -0.49947411,  3.25784564],\n",
       "       [ 2.56957912, -0.63487637,  0.19347751, -0.35364425],\n",
       "       [-1.65585732, -2.53263164,  0.08880788,  0.29728383],\n",
       "       [ 1.36159897,  0.8648653 ,  2.75956535,  0.45343399]], dtype=float32)"
      ]
     },
     "execution_count": 20,
     "metadata": {},
     "output_type": "execute_result"
    }
   ],
   "source": [
    "sess.run(var1)"
   ]
  },
  {
   "cell_type": "code",
   "execution_count": 21,
   "metadata": {},
   "outputs": [
    {
     "data": {
      "text/plain": [
       "array([[-2.72120047, -1.03971696,  1.71828377,  1.47286272],\n",
       "       [ 0.66211796,  0.22275713,  0.3484624 ,  0.77947187],\n",
       "       [-2.07890487, -1.05544555, -0.51904058,  0.2410619 ],\n",
       "       [-1.6960156 ,  1.28576589,  1.92130995, -0.37786508]], dtype=float32)"
      ]
     },
     "execution_count": 21,
     "metadata": {},
     "output_type": "execute_result"
    }
   ],
   "source": [
    "sess.run(var1.initial_value)"
   ]
  },
  {
   "cell_type": "markdown",
   "metadata": {},
   "source": [
    "#### EX : Create Variable as properties given below :\n",
    "> ex12 : initial_value = random_uniform,  shape=(1, 4, 4, 1),  dtype=float64,  name=var2, maxval=10"
   ]
  },
  {
   "cell_type": "code",
   "execution_count": 22,
   "metadata": {},
   "outputs": [
    {
     "data": {
      "text/plain": [
       "<tf.Variable 'var2:0' shape=(1, 4, 4, 1) dtype=float64_ref>"
      ]
     },
     "execution_count": 22,
     "metadata": {},
     "output_type": "execute_result"
    }
   ],
   "source": [
    "# ex12: \n",
    "var2 = tf.Variable(initial_value=tf.random_uniform(shape=(1,4,4,1), dtype=tf.float64, maxval=10), name='var2')\n",
    "var2"
   ]
  },
  {
   "cell_type": "code",
   "execution_count": 23,
   "metadata": {
    "collapsed": true
   },
   "outputs": [],
   "source": [
    "sess.run(var2.initializer)"
   ]
  },
  {
   "cell_type": "code",
   "execution_count": 24,
   "metadata": {},
   "outputs": [
    {
     "data": {
      "text/plain": [
       "array([[[[ 3.86534218],\n",
       "         [ 7.52665933],\n",
       "         [ 5.02382928],\n",
       "         [ 4.66665901]],\n",
       "\n",
       "        [[ 0.17360777],\n",
       "         [ 4.02331548],\n",
       "         [ 7.38180082],\n",
       "         [ 9.80296892]],\n",
       "\n",
       "        [[ 2.50374202],\n",
       "         [ 1.27803573],\n",
       "         [ 8.15465076],\n",
       "         [ 5.74386433]],\n",
       "\n",
       "        [[ 7.68029435],\n",
       "         [ 4.53689774],\n",
       "         [ 8.76516083],\n",
       "         [ 9.57374194]]]])"
      ]
     },
     "execution_count": 24,
     "metadata": {},
     "output_type": "execute_result"
    }
   ],
   "source": [
    "sess.run(var2)"
   ]
  },
  {
   "cell_type": "markdown",
   "metadata": {
    "collapsed": true
   },
   "source": [
    "### Defining Placeholders"
   ]
  },
  {
   "cell_type": "code",
   "execution_count": 25,
   "metadata": {},
   "outputs": [
    {
     "data": {
      "text/plain": [
       "<tf.Tensor 'ph1:0' shape=(10,) dtype=int64>"
      ]
     },
     "execution_count": 25,
     "metadata": {},
     "output_type": "execute_result"
    }
   ],
   "source": [
    "ph1 = tf.placeholder(dtype=tf.int64, name='ph1', shape=(10,))\n",
    "ph1"
   ]
  },
  {
   "cell_type": "markdown",
   "metadata": {},
   "source": [
    "#### EX : Create Plceholders as properties given below :\n",
    "> *ex13:* name='ph2', dtype = tf.float64, shape=(20,1)  "
   ]
  },
  {
   "cell_type": "code",
   "execution_count": 26,
   "metadata": {},
   "outputs": [
    {
     "data": {
      "text/plain": [
       "<tf.Tensor 'ph2:0' shape=(20, 1) dtype=float64>"
      ]
     },
     "execution_count": 26,
     "metadata": {},
     "output_type": "execute_result"
    }
   ],
   "source": [
    "ph2 = tf.placeholder(dtype=tf.float64, name='ph2', shape=(20,1))\n",
    "ph2"
   ]
  },
  {
   "cell_type": "code",
   "execution_count": 27,
   "metadata": {
    "collapsed": true
   },
   "outputs": [],
   "source": [
    "sess.close()"
   ]
  },
  {
   "cell_type": "code",
   "execution_count": 28,
   "metadata": {},
   "outputs": [
    {
     "data": {
      "text/plain": [
       "<tensorflow.python.client.session.InteractiveSession at 0x11669ea58>"
      ]
     },
     "execution_count": 28,
     "metadata": {},
     "output_type": "execute_result"
    }
   ],
   "source": [
    "sess"
   ]
  },
  {
   "cell_type": "code",
   "execution_count": null,
   "metadata": {
    "collapsed": true
   },
   "outputs": [],
   "source": []
  },
  {
   "cell_type": "code",
   "execution_count": null,
   "metadata": {
    "collapsed": true
   },
   "outputs": [],
   "source": []
  }
 ],
 "metadata": {
  "kernelspec": {
   "display_name": "Python 3",
   "language": "python",
   "name": "python3"
  },
  "language_info": {
   "codemirror_mode": {
    "name": "ipython",
    "version": 3
   },
   "file_extension": ".py",
   "mimetype": "text/x-python",
   "name": "python",
   "nbconvert_exporter": "python",
   "pygments_lexer": "ipython3",
   "version": "3.6.1"
  }
 },
 "nbformat": 4,
 "nbformat_minor": 1
}
